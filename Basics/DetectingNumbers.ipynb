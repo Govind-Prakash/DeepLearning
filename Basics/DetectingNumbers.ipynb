{
 "cells": [
  {
   "cell_type": "markdown",
   "id": "9f44468f-267d-4fb3-8f8e-d2ac1a4b832e",
   "metadata": {},
   "source": [
    "<a href=\"https://www.youtube.com/@GovindPrakash\">\n",
    "  <img width=\"100%\" src=\"https://github.com/Govind-Prakash/DeepLearning/blob/main/Media/Number%20Detection.jpg?raw=true\">\n",
    "</a>"
   ]
  },
  {
   "cell_type": "markdown",
   "id": "a0797cd5-dc67-4515-b5d3-eeb8749341e3",
   "metadata": {},
   "source": [
    "# Detecting handwritten numbers using tensorflow and neural networks\n",
    "\n",
    "## Importing Libraries"
   ]
  },
  {
   "cell_type": "code",
   "execution_count": 1,
   "id": "61bbc887-ced2-402e-94fd-9c2bfb5fc7bb",
   "metadata": {},
   "outputs": [
    {
     "name": "stderr",
     "output_type": "stream",
     "text": [
      "2024-12-01 22:07:03.880098: I external/local_xla/xla/tsl/cuda/cudart_stub.cc:32] Could not find cuda drivers on your machine, GPU will not be used.\n",
      "2024-12-01 22:07:03.888711: I external/local_xla/xla/tsl/cuda/cudart_stub.cc:32] Could not find cuda drivers on your machine, GPU will not be used.\n",
      "2024-12-01 22:07:03.907212: E external/local_xla/xla/stream_executor/cuda/cuda_fft.cc:477] Unable to register cuFFT factory: Attempting to register factory for plugin cuFFT when one has already been registered\n",
      "WARNING: All log messages before absl::InitializeLog() is called are written to STDERR\n",
      "E0000 00:00:1733071023.947040   25710 cuda_dnn.cc:8310] Unable to register cuDNN factory: Attempting to register factory for plugin cuDNN when one has already been registered\n",
      "E0000 00:00:1733071023.953848   25710 cuda_blas.cc:1418] Unable to register cuBLAS factory: Attempting to register factory for plugin cuBLAS when one has already been registered\n",
      "2024-12-01 22:07:03.981808: I tensorflow/core/platform/cpu_feature_guard.cc:210] This TensorFlow binary is optimized to use available CPU instructions in performance-critical operations.\n",
      "To enable the following instructions: AVX2 FMA, in other operations, rebuild TensorFlow with the appropriate compiler flags.\n"
     ]
    }
   ],
   "source": [
    "import pandas as pd\n",
    "import numpy as np\n",
    "import matplotlib.pyplot as plt\n",
    "import tensorflow as tf\n",
    "from tensorflow.keras import layers, models"
   ]
  },
  {
   "cell_type": "markdown",
   "id": "d89d300c-fa67-4f1e-a605-05fdd013e3db",
   "metadata": {},
   "source": [
    "## load the MNIST dataset"
   ]
  },
  {
   "cell_type": "code",
   "execution_count": 2,
   "id": "a3e9bd55-335a-4ce4-8d23-fedaf9ec4f8f",
   "metadata": {},
   "outputs": [],
   "source": [
    "(train_images, train_labels),(test_images, test_labels)= tf.keras.datasets.mnist.load_data()"
   ]
  },
  {
   "cell_type": "markdown",
   "id": "9cedcec8-92f7-49ee-bd8b-559f2adfff35",
   "metadata": {},
   "source": [
    "## Normalise the Pixel values to be between 0 and 1"
   ]
  },
  {
   "cell_type": "code",
   "execution_count": 3,
   "id": "7a7caea4-9b15-4392-8ec0-1cb8b9da6d63",
   "metadata": {},
   "outputs": [],
   "source": [
    "train_images, test_images= train_images/255.0, test_images/255.0"
   ]
  },
  {
   "cell_type": "markdown",
   "id": "c4b104aa-2997-4fff-92ef-46b80752c6cd",
   "metadata": {},
   "source": [
    "## Create the Model"
   ]
  },
  {
   "cell_type": "code",
   "execution_count": 5,
   "id": "b807ea27-5616-4953-9207-d03bceee6b0b",
   "metadata": {},
   "outputs": [
    {
     "name": "stderr",
     "output_type": "stream",
     "text": [
      "/home/govind/miniconda3/lib/python3.12/site-packages/keras/src/layers/reshaping/flatten.py:37: UserWarning: Do not pass an `input_shape`/`input_dim` argument to a layer. When using Sequential models, prefer using an `Input(shape)` object as the first layer in the model instead.\n",
      "  super().__init__(**kwargs)\n",
      "W0000 00:00:1733069991.264655   23434 gpu_device.cc:2344] Cannot dlopen some GPU libraries. Please make sure the missing libraries mentioned above are installed properly if you would like to use GPU. Follow the guide at https://www.tensorflow.org/install/gpu for how to download and setup the required libraries for your platform.\n",
      "Skipping registering GPU devices...\n"
     ]
    }
   ],
   "source": [
    "model = models.Sequential([layers.Flatten(input_shape=(28,28)), #Flattens the input imae\n",
    "                           layers.Dense(128,activation='relu'), #Hidden layer with 128neurons and ReLu activation\n",
    "                           layers.Dense(10,activation='softmax')#Output layer with 10 neurons (one for each )\n",
    "                        ])"
   ]
  },
  {
   "cell_type": "markdown",
   "id": "c5ad6183-56f0-4da3-8071-b30d48630f2a",
   "metadata": {},
   "source": [
    "## Compile the model"
   ]
  },
  {
   "cell_type": "code",
   "execution_count": 6,
   "id": "880f3d36-bcf8-4ec2-a82b-fe363e4aaaef",
   "metadata": {},
   "outputs": [],
   "source": [
    "model.compile(optimizer='adam', loss='sparse_categorical_crossentropy', metrics=['accuracy'])"
   ]
  },
  {
   "cell_type": "markdown",
   "id": "f2982bd3-2634-4ec8-8a08-ab9ef007b8e1",
   "metadata": {},
   "source": [
    "## Train the model"
   ]
  },
  {
   "cell_type": "code",
   "execution_count": 7,
   "id": "aaaee169-9305-4d4e-b449-dda8b9f938f9",
   "metadata": {},
   "outputs": [
    {
     "name": "stdout",
     "output_type": "stream",
     "text": [
      "Epoch 1/5\n"
     ]
    },
    {
     "name": "stderr",
     "output_type": "stream",
     "text": [
      "2024-12-01 21:49:59.614701: W external/local_xla/xla/tsl/framework/cpu_allocator_impl.cc:83] Allocation of 188160000 exceeds 10% of free system memory.\n"
     ]
    },
    {
     "name": "stdout",
     "output_type": "stream",
     "text": [
      "\u001b[1m1875/1875\u001b[0m \u001b[32m━━━━━━━━━━━━━━━━━━━━\u001b[0m\u001b[37m\u001b[0m \u001b[1m6s\u001b[0m 3ms/step - accuracy: 0.8778 - loss: 0.4317\n",
      "Epoch 2/5\n",
      "\u001b[1m1875/1875\u001b[0m \u001b[32m━━━━━━━━━━━━━━━━━━━━\u001b[0m\u001b[37m\u001b[0m \u001b[1m5s\u001b[0m 2ms/step - accuracy: 0.9637 - loss: 0.1227\n",
      "Epoch 3/5\n",
      "\u001b[1m1875/1875\u001b[0m \u001b[32m━━━━━━━━━━━━━━━━━━━━\u001b[0m\u001b[37m\u001b[0m \u001b[1m5s\u001b[0m 2ms/step - accuracy: 0.9758 - loss: 0.0820\n",
      "Epoch 4/5\n",
      "\u001b[1m1875/1875\u001b[0m \u001b[32m━━━━━━━━━━━━━━━━━━━━\u001b[0m\u001b[37m\u001b[0m \u001b[1m5s\u001b[0m 2ms/step - accuracy: 0.9819 - loss: 0.0594\n",
      "Epoch 5/5\n",
      "\u001b[1m1875/1875\u001b[0m \u001b[32m━━━━━━━━━━━━━━━━━━━━\u001b[0m\u001b[37m\u001b[0m \u001b[1m5s\u001b[0m 2ms/step - accuracy: 0.9865 - loss: 0.0438\n"
     ]
    },
    {
     "data": {
      "text/plain": [
       "<keras.src.callbacks.history.History at 0x7dab4070eff0>"
      ]
     },
     "execution_count": 7,
     "metadata": {},
     "output_type": "execute_result"
    }
   ],
   "source": [
    "model.fit(train_images,train_labels, epochs=5)"
   ]
  },
  {
   "cell_type": "markdown",
   "id": "5751f4c3-5f97-4f5c-8753-9e453a506a97",
   "metadata": {},
   "source": [
    "## Evaluate the model"
   ]
  },
  {
   "cell_type": "code",
   "execution_count": 8,
   "id": "135cf811-4421-43bb-9829-77de74be1884",
   "metadata": {},
   "outputs": [
    {
     "name": "stderr",
     "output_type": "stream",
     "text": [
      "2024-12-01 21:50:38.634789: W external/local_xla/xla/tsl/framework/cpu_allocator_impl.cc:83] Allocation of 31360000 exceeds 10% of free system memory.\n"
     ]
    },
    {
     "name": "stdout",
     "output_type": "stream",
     "text": [
      "\u001b[1m313/313\u001b[0m \u001b[32m━━━━━━━━━━━━━━━━━━━━\u001b[0m\u001b[37m\u001b[0m \u001b[1m1s\u001b[0m 2ms/step - accuracy: 0.9757 - loss: 0.0810\n",
      "Test accuracy: 0.9787999987602234\n"
     ]
    }
   ],
   "source": [
    "test_loss, test_acc= model.evaluate(test_images,test_labels)\n",
    "\n",
    "print(f\"Test accuracy: {test_acc}\")"
   ]
  },
  {
   "cell_type": "markdown",
   "id": "93e1b3e7-d5b8-430b-8629-567e7d18b7f9",
   "metadata": {},
   "source": [
    "## Make predictions on the test dataset"
   ]
  },
  {
   "cell_type": "code",
   "execution_count": 9,
   "id": "d0d715df-11aa-4bd7-9fdb-167923ee2dbf",
   "metadata": {},
   "outputs": [
    {
     "name": "stdout",
     "output_type": "stream",
     "text": [
      "\u001b[1m 89/313\u001b[0m \u001b[32m━━━━━\u001b[0m\u001b[37m━━━━━━━━━━━━━━━\u001b[0m \u001b[1m0s\u001b[0m 1ms/step"
     ]
    },
    {
     "name": "stderr",
     "output_type": "stream",
     "text": [
      "2024-12-01 21:50:54.117830: W external/local_xla/xla/tsl/framework/cpu_allocator_impl.cc:83] Allocation of 31360000 exceeds 10% of free system memory.\n"
     ]
    },
    {
     "name": "stdout",
     "output_type": "stream",
     "text": [
      "\u001b[1m313/313\u001b[0m \u001b[32m━━━━━━━━━━━━━━━━━━━━\u001b[0m\u001b[37m\u001b[0m \u001b[1m0s\u001b[0m 1ms/step\n"
     ]
    }
   ],
   "source": [
    "predictions= model.predict(test_images)"
   ]
  },
  {
   "cell_type": "markdown",
   "id": "e4719b22-0110-4fab-9b5d-5968af69adb3",
   "metadata": {},
   "source": [
    "## Show the first image and its predicted label"
   ]
  },
  {
   "cell_type": "code",
   "execution_count": null,
   "id": "00b084a7-17ef-4bb9-8bf8-c0f8c34324c5",
   "metadata": {},
   "outputs": [],
   "source": [
    "plt.imshow(test_images[3],\n",
    "           cmap=plt.cm.binary)\n",
    "plt.title(f\"predicted Label: {np.argmax(predictions[3])}\")\n",
    "\n",
    "plt.show()"
   ]
  }
 ],
 "metadata": {
  "kernelspec": {
   "display_name": "Python 3 (ipykernel)",
   "language": "python",
   "name": "python3"
  },
  "language_info": {
   "codemirror_mode": {
    "name": "ipython",
    "version": 3
   },
   "file_extension": ".py",
   "mimetype": "text/x-python",
   "name": "python",
   "nbconvert_exporter": "python",
   "pygments_lexer": "ipython3",
   "version": "3.12.7"
  }
 },
 "nbformat": 4,
 "nbformat_minor": 5
}
