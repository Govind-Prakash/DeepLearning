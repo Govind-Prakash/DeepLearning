{
 "cells": [
  {
   "cell_type": "markdown",
   "id": "9f44468f-267d-4fb3-8f8e-d2ac1a4b832e",
   "metadata": {},
   "source": [
    "<a href=\"https://www.youtube.com/@GovindPrakash\">\n",
    "  <img width=\"100%\" src=\"https://github.com/Govind-Prakash/DeepLearning/blob/main/Media/Number%20Detection.jpg?raw=true\">\n",
    "</a>"
   ]
  },
  {
   "cell_type": "code",
   "execution_count": null,
   "id": "61bbc887-ced2-402e-94fd-9c2bfb5fc7bb",
   "metadata": {},
   "outputs": [],
   "source": []
  }
 ],
 "metadata": {
  "kernelspec": {
   "display_name": "Python 3 (ipykernel)",
   "language": "python",
   "name": "python3"
  },
  "language_info": {
   "codemirror_mode": {
    "name": "ipython",
    "version": 3
   },
   "file_extension": ".py",
   "mimetype": "text/x-python",
   "name": "python",
   "nbconvert_exporter": "python",
   "pygments_lexer": "ipython3",
   "version": "3.12.7"
  }
 },
 "nbformat": 4,
 "nbformat_minor": 5
}
