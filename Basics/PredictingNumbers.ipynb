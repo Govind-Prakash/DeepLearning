{
    "cells": [
      {
        "cell_type": "code",
        "execution_count": 1,
        "metadata": {},
        "outputs": [],
        "source": [
          "import pandas as pd\n",
          "import numpy as np\n",
          "import matplotlib.pyplot as plt\n",
          "import tensorflow as tf\n",
          "from tensorflow.keras import layers, models"
        ]
      },
      {
        "cell_type": "code",
        "execution_count": 2,
        "metadata": {},
        "outputs": [],
        "source": [
          "# Load the MNIST dataset\n",
          "(train_images, train_labels), (test_images, test_labels) = tf.keras.datasets.mnist.load_data()"
        ]
      },
      {
        "cell_type": "code",
        "execution_count": 3,
        "metadata": {},
        "outputs": [],
        "source": [
          "# Normalize the pixel values to be between 0 and 1\n",
          "train_images, test_images = train_images / 255.0, test_images / 255.0"
        ]
      },
      {
        "cell_type": "code",
        "execution_count": 4,
        "metadata": {},
        "outputs": [],
        "source": [
          "# Create the model\n",
          "model = models.Sequential([\n",
          "    layers.Flatten(input_shape=(28, 28)),  # Flattens the input image\n",
          "    layers.Dense(128, activation='relu'),  # Hidden layer with 128 neurons and ReLU activation\n",
          "    layers.Dense(10, activation='softmax')  # Output layer with 10 neurons (one for each digit)\n",
          "])"
        ]
      },
      {
        "cell_type": "code",
        "execution_count": 5,
        "metadata": {},
        "outputs": [],
        "source": [
          "# Compile the model\n",
          "model.compile(optimizer='adam', loss='sparse_categorical_crossentropy', metrics=['accuracy'])"
        ]
      },
      {
        "cell_type": "code",
        "execution_count": 6,
        "metadata": {},
        "outputs": [
          {
            "name": "stdout",
            "output_type": "stream",
            "text": [
              "Epoch 1/5\n",
              "... (output trimmed for brevity) ...\n"
            ]
          }
        ],
        "source": [
          "# Train the model\n",
          "model.fit(train_images, train_labels, epochs=5)"
        ]
      },
      {
        "cell_type": "code",
        "execution_count": 7,
        "metadata": {},
        "outputs": [
          {
            "name": "stdout",
            "output_type": "stream",
            "text": [
              "313/313 [==============================] - 0s 1ms/step - loss: 0.0663 - accuracy: 0.9798\n",
              "Test accuracy: 0.9798\n"
            ]
          }
        ],
        "source": [
          "# Evaluate the model\n",
          "test_loss, test_acc = model.evaluate(test_images, test_labels)\n",
          "print(f\"Test accuracy: {test_acc}\")"
        ]
      },
      {
        "cell_type": "code",
        "execution_count": 8,
        "metadata": {},
        "outputs": [],
        "source": [
          "# Make predictions on the test dataset\n",
          "predictions = model.predict(test_images)"
        ]
      },
      {
        "cell_type": "code",
        "execution_count": 9,
        "metadata": {},
        "outputs": [],
        "source": [
          "# Show the first image and its predicted label\n",
          "plt.imshow(test_images[3], cmap=plt.cm.binary)\n",
          "plt.title(f\"Predicted Label: {np.argmax(predictions[3])}\")\n",
          "plt.show()"
        ]
      }
    ],
    "metadata": {
      "kernelspec": {
        "display_name": "Python 3",
        "language": "python",
        "name": "python3"
      },
      "language_info": {
        "codemirror_mode": {
          "name": "ipython",
          "version": 3
        },
        "file_extension": ".py",
        "mimetype": "text/x-python",
        "name": "python",
        "nbconvert_exporter": "python",
        "pygments_lexer": "ipython3",
        "version": "3.8.5"
      }
    },
    "nbformat": 4,
    "nbformat_minor": 5
  }
  