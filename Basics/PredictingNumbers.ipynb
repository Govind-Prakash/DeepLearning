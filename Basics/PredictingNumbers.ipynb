{
    "cells": [
      {
        "cell_type": "code",
        "execution_count": 1,
        "metadata": {},
        "outputs": [],
        "source": [
          "import pandas as pd\n",
          "import numpy as np\n",
          "import matplotlib.pyplot as plt\n",
          "import tensorflow as tf\n",
          "from tensorflow.keras import layers, models"
        ]
      },
      {
        "cell_type": "code",
        "execution_count": 2,
        "metadata": {},
        "outputs": [],
        "source": [
          "# Load the MNIST dataset\n",
          "(train_images, train_labels), (test_images, test_labels) = tf.keras.datasets.mnist.load_data()"
        ]
      },
      {
        "cell_type": "code",
        "execution_count": 3,
        "metadata": {},
        "outputs": [],
        "source": [
          "# Normalize the pixel values to be between 0 and 1\n",
          "train_images, test_images = train_images / 255.0, test_images / 255.0"
        ]
      },
      {
        "cell_type": "code",
        "execution_count": 4,
        "metadata": {},
        "outputs": [],
        "source": [
          "# Create the model\n",
          "model = models.Sequential([\n",
          "    layers.Flatten(input_shape=(28, 28)),  # Flattens the input image\n",
          "    layers.Dense(128, activation='relu'),  # Hidden layer with 128 neurons and ReLU activation\n",
          "
  