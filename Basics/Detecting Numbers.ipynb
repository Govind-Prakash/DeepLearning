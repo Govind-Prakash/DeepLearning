{
 "cells": [
  {
   "cell_type": "markdown",
   "id": "baa6748c-f231-4657-88fc-8ce29cec79ed",
   "metadata": {},
   "source": [
    "<a>\n",
    "    <img src=\"https://raw.githubusercontent.com/Govind-Prakash/DeepLearning/refs/heads/main/Media/Number%20Detection.jpg\">\n",
    "    </a>"
   ]
  },
  {
   "cell_type": "markdown",
   "id": "efc04f75-9006-41e7-9cfa-87119a6cb0ed",
   "metadata": {},
   "source": [
    "# Detecting Numbers Using Neural Networks"
   ]
  },
  {
   "cell_type": "markdown",
   "id": "86841fa6-2eda-4ab5-8019-88a53fbe0b66",
   "metadata": {},
   "source": [
    "### Importing Important libraries"
   ]
  },
  {
   "cell_type": "code",
   "execution_count": 36,
   "id": "2cfb36e8-41d3-476a-b914-c91c0599d1d9",
   "metadata": {},
   "outputs": [],
   "source": [
    "import pandas as pd\n",
    "import numpy as np\n",
    "import matplotlib.pyplot as plt\n",
    "import tensorflow as tf\n",
    "from tensorflow.keras import layers, models"
   ]
  },
  {
   "cell_type": "markdown",
   "id": "cd2c11d4-f6c7-4bb8-87e5-9c037a489b37",
   "metadata": {},
   "source": [
    "### load the MNIST dataset"
   ]
  },
  {
   "cell_type": "code",
   "execution_count": 27,
   "id": "66221971-80f5-4c09-9bf5-d087e60642ef",
   "metadata": {},
   "outputs": [],
   "source": [
    "(train_images, train_labels),(test_images, test_labels)= tf.keras.datasets.mnist.load_data()"
   ]
  },
  {
   "cell_type": "markdown",
   "id": "913b6a61-c174-4db5-a5c5-8300e6fc71b7",
   "metadata": {},
   "source": [
    "### Normalise the Pixel values to be between 0 and 1"
   ]
  },
  {
   "cell_type": "code",
   "execution_count": 28,
   "id": "97c0fe88-87a1-4d46-9226-15231eaaabe6",
   "metadata": {},
   "outputs": [],
   "source": [
    "train_images, test_images= train_images/255.0, test_images/255.0"
   ]
  },
  {
   "cell_type": "markdown",
   "id": "d3cef40c-9aae-4d60-b748-4bc4292aeb5e",
   "metadata": {},
   "source": [
    "### Create the Model"
   ]
  },
  {
   "cell_type": "code",
   "execution_count": 29,
   "id": "5c6b8035-2554-483d-8655-c7ed4870ab69",
   "metadata": {},
   "outputs": [],
   "source": [
    "model = models.Sequential([layers.Flatten(input_shape=(28,28)), #Flattens the input imae\n",
    "                           layers.Dense(128,activation='relu'), #Hidden layer with 128neurons and ReLu activation\n",
    "                           layers.Dense(10,activation='softmax')#Output layer with 10 neurons (one for each )\n",
    "                        ])"
   ]
  },
  {
   "cell_type": "markdown",
   "id": "5c824f28-abf8-4536-a06a-9a4b7adaab14",
   "metadata": {},
   "source": [
    "### Compile the model"
   ]
  },
  {
   "cell_type": "code",
   "execution_count": 30,
   "id": "be2b0fbe-cb97-4547-9ecc-67891091d9a2",
   "metadata": {},
   "outputs": [],
   "source": [
    "model.compile(optimizer='adam', loss='sparse_categorical_crossentropy', metrics=['accuracy'])"
   ]
  },
  {
   "cell_type": "markdown",
   "id": "746c1d22-391b-48ee-9f5a-0c2df846faf6",
   "metadata": {},
   "source": [
    "### Train the model"
   ]
  },
  {
   "cell_type": "code",
   "execution_count": 31,
   "id": "ee1ab50d-0485-4197-aa3d-44bd9cee5e5c",
   "metadata": {},
   "outputs": [
    {
     "name": "stdout",
     "output_type": "stream",
     "text": [
      "Epoch 1/5\n",
      "1875/1875 [==============================] - 6s 3ms/step - loss: 0.2598 - accuracy: 0.9258\n",
      "Epoch 2/5\n",
      "1875/1875 [==============================] - 5s 3ms/step - loss: 0.1128 - accuracy: 0.9673\n",
      "Epoch 3/5\n",
      "1875/1875 [==============================] - 6s 3ms/step - loss: 0.0791 - accuracy: 0.9763\n",
      "Epoch 4/5\n",
      "1875/1875 [==============================] - 5s 3ms/step - loss: 0.0593 - accuracy: 0.9816\n",
      "Epoch 5/5\n",
      "1875/1875 [==============================] - 5s 2ms/step - loss: 0.0455 - accuracy: 0.9859\n"
     ]
    },
    {
     "data": {
      "text/plain": [
       "<keras.callbacks.History at 0x7fa9831a2680>"
      ]
     },
     "execution_count": 31,
     "metadata": {},
     "output_type": "execute_result"
    }
   ],
   "source": [
    "model.fit(train_images,train_labels, epochs=5)"
   ]
  },
  {
   "cell_type": "markdown",
   "id": "75fa858a-1fab-4740-8d9f-5c15bb9348b5",
   "metadata": {},
   "source": [
    "### Evaluate the model"
   ]
  },
  {
   "cell_type": "code",
   "execution_count": 32,
   "id": "4944c9a6-504d-4291-adfb-9668409ba598",
   "metadata": {},
   "outputs": [
    {
     "name": "stdout",
     "output_type": "stream",
     "text": [
      "313/313 [==============================] - 1s 2ms/step - loss: 0.0779 - accuracy: 0.9745\n"
     ]
    }
   ],
   "source": [
    "test_loss, test_acc= model.evaluate(test_images,test_labels)"
   ]
  },
  {
   "cell_type": "code",
   "execution_count": 33,
   "id": "f60965c0-7dd4-485b-aa72-faef6ab7d214",
   "metadata": {},
   "outputs": [
    {
     "name": "stdout",
     "output_type": "stream",
     "text": [
      "Test accuracy: 0.9745000004768372\n"
     ]
    }
   ],
   "source": [
    "print(f\"Test accuracy: {test_acc}\")"
   ]
  },
  {
   "cell_type": "markdown",
   "id": "bbfe18fe-a04e-4bb1-be7b-f729ec446c2b",
   "metadata": {},
   "source": [
    "### Make predictions on the test dataset"
   ]
  },
  {
   "cell_type": "code",
   "execution_count": 34,
   "id": "47d73a89-7e8f-45c1-8b62-081df4dcbbdf",
   "metadata": {},
   "outputs": [
    {
     "name": "stdout",
     "output_type": "stream",
     "text": [
      "313/313 [==============================] - 0s 1ms/step\n"
     ]
    }
   ],
   "source": [
    "predictions= model.predict(test_images)"
   ]
  },
  {
   "cell_type": "markdown",
   "id": "856f7d10-1e34-49a0-9c1f-9c60c6f0cb84",
   "metadata": {
    "tags": []
   },
   "source": [
    "### Show the first image and its predicted label"
   ]
  },
  {
   "cell_type": "code",
   "execution_count": 35,
   "id": "5c040520-c27b-4f6b-ab6e-aa48eb78eea3",
   "metadata": {
    "tags": []
   },
   "outputs": [
    {
     "data": {
      "image/png": "[encoded data removed]",
      "text/plain": [
       "<Figure size 640x480 with 1 Axes>"
      ]
     },
     "metadata": {},
     "output_type": "display_data"
    }
   ],
   "source": [
    "plt.imshow(test_images[0],\n",
    "           cmap=plt.cm.binary)\n",
    "plt.title(f\"predicted Label: {np.argmax(predictions[0])}\")\n",
    "\n",
    "plt.show()"
   ]
  }
 ],
 "metadata": {
  "kernelspec": {
   "display_name": "TensorFlow 2.12",
   "language": "python",
   "name": "tf2-2-12"
  },
  "language_info": {
   "codemirror_mode": {
    "name": "ipython",
    "version": 3
   },
   "file_extension": ".py",
   "mimetype": "text/x-python",
   "name": "python",
   "nbconvert_exporter": "python",
   "pygments_lexer": "ipython3",
   "version": "3.10.15"
  }
 },
 "nbformat": 4,
 "nbformat_minor": 5
}
